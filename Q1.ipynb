{
 "cells": [
  {
   "cell_type": "markdown",
   "id": "5901e991-7742-466a-900e-f6e8fd64c65c",
   "metadata": {},
   "source": [
    "### What is the causal effect of heat waves on electricity demand in regions with high penetration of solar power?"
   ]
  },
  {
   "cell_type": "code",
   "execution_count": null,
   "id": "c630a6e4-ed10-434b-90b9-4511b43ebed2",
   "metadata": {},
   "outputs": [],
   "source": []
  }
 ],
 "metadata": {
  "kernelspec": {
   "display_name": "Python 3 (ipykernel)",
   "language": "python",
   "name": "python3"
  },
  "language_info": {
   "codemirror_mode": {
    "name": "ipython",
    "version": 3
   },
   "file_extension": ".py",
   "mimetype": "text/x-python",
   "name": "python",
   "nbconvert_exporter": "python",
   "pygments_lexer": "ipython3",
   "version": "3.11.10"
  }
 },
 "nbformat": 4,
 "nbformat_minor": 5
}
